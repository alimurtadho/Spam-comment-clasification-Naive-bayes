{
  "nbformat": 4,
  "nbformat_minor": 0,
  "metadata": {
    "colab": {
      "name": "spam clasification.ipynb",
      "provenance": [],
      "toc_visible": true
    },
    "kernelspec": {
      "name": "python3",
      "display_name": "Python 3"
    }
  },
  "cells": [
    {
      "cell_type": "code",
      "metadata": {
        "id": "SgarG_CdmzKz"
      },
      "source": [
        "import pandas as pd\n",
        "from sklearn.model_selection import train_test_split\n",
        "from sklearn.feature_extraction.text import CountVectorizer,TfidfVectorizer\n",
        "from sklearn.naive_bayes import MultinomialNB\n",
        "from sklearn.metrics import accuracy_score\n",
        "import string\n",
        "import matplotlib.pyplot as plt\n",
        "%matplotlib inline"
      ],
      "execution_count": 6,
      "outputs": []
    },
    {
      "cell_type": "code",
      "metadata": {
        "id": "cMXP8SEOeZqe"
      },
      "source": [
        "read_file = pd.read_excel (r'/content/Comment Spam.xls', sheet_name='Data Train')\n",
        "read_file.to_csv (r'/content\\data.csv', index = None, header=True)\n"
      ],
      "execution_count": 7,
      "outputs": []
    },
    {
      "cell_type": "code",
      "metadata": {
        "colab": {
          "base_uri": "https://localhost:8080/"
        },
        "id": "vmNFdrIitGd9",
        "outputId": "0f861827-a2fd-4364-9bfd-4efac4f74cbe"
      },
      "source": [
        "print(read_file)\n"
      ],
      "execution_count": 8,
      "outputs": [
        {
          "output_type": "stream",
          "text": [
            "        No                                            Comment  Class\n",
            "0        1                                this song is racist      0\n",
            "1        2  and how many subscribers compared to her over ...      1\n",
            "2        3  HI! CHECK OUT OUR AWESOME COVERS! AND SAY WHAT...      1\n",
            "3        4                                  well done shakira      0\n",
            "4        5                 :D subscribe to me for daily vines      1\n",
            "...    ...                                                ...    ...\n",
            "1295  1296                                      Awsome<br />﻿      0\n",
            "1296  1297                https://www.tsu.co/KodysMan plz ^^﻿      1\n",
            "1297  1298  Sign up for free on TSU and start making money...      1\n",
            "1298  1299  MEGAN FOX AND EMINEM TOGETHER IN A VIDEO  DOES...      0\n",
            "1299  1300                              Great.This is a song﻿      0\n",
            "\n",
            "[1300 rows x 3 columns]\n"
          ],
          "name": "stdout"
        }
      ]
    },
    {
      "cell_type": "code",
      "metadata": {
        "id": "1YqKJfTwtMjJ"
      },
      "source": [
        "df = read_file"
      ],
      "execution_count": 9,
      "outputs": []
    },
    {
      "cell_type": "code",
      "metadata": {
        "id": "Q9ZvP_sbegTL",
        "colab": {
          "base_uri": "https://localhost:8080/"
        },
        "outputId": "e251dcaf-fdc2-49b0-d417-228e428599fd"
      },
      "source": [
        "dinfo=df.info()\n",
        "dinfo"
      ],
      "execution_count": 10,
      "outputs": [
        {
          "output_type": "stream",
          "text": [
            "<class 'pandas.core.frame.DataFrame'>\n",
            "RangeIndex: 1300 entries, 0 to 1299\n",
            "Data columns (total 3 columns):\n",
            " #   Column   Non-Null Count  Dtype \n",
            "---  ------   --------------  ----- \n",
            " 0   No       1300 non-null   int64 \n",
            " 1   Comment  1300 non-null   object\n",
            " 2   Class    1300 non-null   int64 \n",
            "dtypes: int64(2), object(1)\n",
            "memory usage: 30.6+ KB\n"
          ],
          "name": "stdout"
        }
      ]
    },
    {
      "cell_type": "code",
      "metadata": {
        "colab": {
          "base_uri": "https://localhost:8080/",
          "height": 294
        },
        "id": "1UH5ZRWMjFBz",
        "outputId": "e1f9e1cb-0f97-4c7c-de68-3881c7df1ef3"
      },
      "source": [
        "df.describe()"
      ],
      "execution_count": 12,
      "outputs": [
        {
          "output_type": "execute_result",
          "data": {
            "text/html": [
              "<div>\n",
              "<style scoped>\n",
              "    .dataframe tbody tr th:only-of-type {\n",
              "        vertical-align: middle;\n",
              "    }\n",
              "\n",
              "    .dataframe tbody tr th {\n",
              "        vertical-align: top;\n",
              "    }\n",
              "\n",
              "    .dataframe thead th {\n",
              "        text-align: right;\n",
              "    }\n",
              "</style>\n",
              "<table border=\"1\" class=\"dataframe\">\n",
              "  <thead>\n",
              "    <tr style=\"text-align: right;\">\n",
              "      <th></th>\n",
              "      <th>No</th>\n",
              "      <th>Class</th>\n",
              "    </tr>\n",
              "  </thead>\n",
              "  <tbody>\n",
              "    <tr>\n",
              "      <th>count</th>\n",
              "      <td>1300.000000</td>\n",
              "      <td>1300.000000</td>\n",
              "    </tr>\n",
              "    <tr>\n",
              "      <th>mean</th>\n",
              "      <td>650.500000</td>\n",
              "      <td>0.514615</td>\n",
              "    </tr>\n",
              "    <tr>\n",
              "      <th>std</th>\n",
              "      <td>375.421985</td>\n",
              "      <td>0.499979</td>\n",
              "    </tr>\n",
              "    <tr>\n",
              "      <th>min</th>\n",
              "      <td>1.000000</td>\n",
              "      <td>0.000000</td>\n",
              "    </tr>\n",
              "    <tr>\n",
              "      <th>25%</th>\n",
              "      <td>325.750000</td>\n",
              "      <td>0.000000</td>\n",
              "    </tr>\n",
              "    <tr>\n",
              "      <th>50%</th>\n",
              "      <td>650.500000</td>\n",
              "      <td>1.000000</td>\n",
              "    </tr>\n",
              "    <tr>\n",
              "      <th>75%</th>\n",
              "      <td>975.250000</td>\n",
              "      <td>1.000000</td>\n",
              "    </tr>\n",
              "    <tr>\n",
              "      <th>max</th>\n",
              "      <td>1300.000000</td>\n",
              "      <td>1.000000</td>\n",
              "    </tr>\n",
              "  </tbody>\n",
              "</table>\n",
              "</div>"
            ],
            "text/plain": [
              "                No        Class\n",
              "count  1300.000000  1300.000000\n",
              "mean    650.500000     0.514615\n",
              "std     375.421985     0.499979\n",
              "min       1.000000     0.000000\n",
              "25%     325.750000     0.000000\n",
              "50%     650.500000     1.000000\n",
              "75%     975.250000     1.000000\n",
              "max    1300.000000     1.000000"
            ]
          },
          "metadata": {
            "tags": []
          },
          "execution_count": 12
        }
      ]
    },
    {
      "cell_type": "code",
      "metadata": {
        "id": "HApNc_d7jP0y"
      },
      "source": [
        "df['Length'] = df['Comment'].apply(len)"
      ],
      "execution_count": 14,
      "outputs": []
    },
    {
      "cell_type": "code",
      "metadata": {
        "colab": {
          "base_uri": "https://localhost:8080/",
          "height": 202
        },
        "id": "s3FEbucQjVCS",
        "outputId": "8b88ba4c-1f42-4dc1-e82b-1135069a6804"
      },
      "source": [
        "df.head()"
      ],
      "execution_count": 15,
      "outputs": [
        {
          "output_type": "execute_result",
          "data": {
            "text/html": [
              "<div>\n",
              "<style scoped>\n",
              "    .dataframe tbody tr th:only-of-type {\n",
              "        vertical-align: middle;\n",
              "    }\n",
              "\n",
              "    .dataframe tbody tr th {\n",
              "        vertical-align: top;\n",
              "    }\n",
              "\n",
              "    .dataframe thead th {\n",
              "        text-align: right;\n",
              "    }\n",
              "</style>\n",
              "<table border=\"1\" class=\"dataframe\">\n",
              "  <thead>\n",
              "    <tr style=\"text-align: right;\">\n",
              "      <th></th>\n",
              "      <th>No</th>\n",
              "      <th>Comment</th>\n",
              "      <th>Class</th>\n",
              "      <th>Length</th>\n",
              "    </tr>\n",
              "  </thead>\n",
              "  <tbody>\n",
              "    <tr>\n",
              "      <th>0</th>\n",
              "      <td>1</td>\n",
              "      <td>this song is racist</td>\n",
              "      <td>0</td>\n",
              "      <td>19</td>\n",
              "    </tr>\n",
              "    <tr>\n",
              "      <th>1</th>\n",
              "      <td>2</td>\n",
              "      <td>and how many subscribers compared to her over ...</td>\n",
              "      <td>1</td>\n",
              "      <td>55</td>\n",
              "    </tr>\n",
              "    <tr>\n",
              "      <th>2</th>\n",
              "      <td>3</td>\n",
              "      <td>HI! CHECK OUT OUR AWESOME COVERS! AND SAY WHAT...</td>\n",
              "      <td>1</td>\n",
              "      <td>57</td>\n",
              "    </tr>\n",
              "    <tr>\n",
              "      <th>3</th>\n",
              "      <td>4</td>\n",
              "      <td>well done shakira</td>\n",
              "      <td>0</td>\n",
              "      <td>17</td>\n",
              "    </tr>\n",
              "    <tr>\n",
              "      <th>4</th>\n",
              "      <td>5</td>\n",
              "      <td>:D subscribe to me for daily vines</td>\n",
              "      <td>1</td>\n",
              "      <td>34</td>\n",
              "    </tr>\n",
              "  </tbody>\n",
              "</table>\n",
              "</div>"
            ],
            "text/plain": [
              "   No                                            Comment  Class  Length\n",
              "0   1                                this song is racist      0      19\n",
              "1   2  and how many subscribers compared to her over ...      1      55\n",
              "2   3  HI! CHECK OUT OUR AWESOME COVERS! AND SAY WHAT...      1      57\n",
              "3   4                                  well done shakira      0      17\n",
              "4   5                 :D subscribe to me for daily vines      1      34"
            ]
          },
          "metadata": {
            "tags": []
          },
          "execution_count": 15
        }
      ]
    },
    {
      "cell_type": "code",
      "metadata": {
        "id": "1APZGz5YjZPk",
        "colab": {
          "base_uri": "https://localhost:8080/",
          "height": 141
        },
        "outputId": "5df91d70-756c-44ac-ac91-3da6fcf2e201"
      },
      "source": [
        "df.groupby('Class').count()"
      ],
      "execution_count": 16,
      "outputs": [
        {
          "output_type": "execute_result",
          "data": {
            "text/html": [
              "<div>\n",
              "<style scoped>\n",
              "    .dataframe tbody tr th:only-of-type {\n",
              "        vertical-align: middle;\n",
              "    }\n",
              "\n",
              "    .dataframe tbody tr th {\n",
              "        vertical-align: top;\n",
              "    }\n",
              "\n",
              "    .dataframe thead th {\n",
              "        text-align: right;\n",
              "    }\n",
              "</style>\n",
              "<table border=\"1\" class=\"dataframe\">\n",
              "  <thead>\n",
              "    <tr style=\"text-align: right;\">\n",
              "      <th></th>\n",
              "      <th>No</th>\n",
              "      <th>Comment</th>\n",
              "      <th>Length</th>\n",
              "    </tr>\n",
              "    <tr>\n",
              "      <th>Class</th>\n",
              "      <th></th>\n",
              "      <th></th>\n",
              "      <th></th>\n",
              "    </tr>\n",
              "  </thead>\n",
              "  <tbody>\n",
              "    <tr>\n",
              "      <th>0</th>\n",
              "      <td>631</td>\n",
              "      <td>631</td>\n",
              "      <td>631</td>\n",
              "    </tr>\n",
              "    <tr>\n",
              "      <th>1</th>\n",
              "      <td>669</td>\n",
              "      <td>669</td>\n",
              "      <td>669</td>\n",
              "    </tr>\n",
              "  </tbody>\n",
              "</table>\n",
              "</div>"
            ],
            "text/plain": [
              "        No  Comment  Length\n",
              "Class                      \n",
              "0      631      631     631\n",
              "1      669      669     669"
            ]
          },
          "metadata": {
            "tags": []
          },
          "execution_count": 16
        }
      ]
    },
    {
      "cell_type": "code",
      "metadata": {
        "colab": {
          "base_uri": "https://localhost:8080/"
        },
        "id": "amJCiwROiBux",
        "outputId": "7e8e5e3c-7ac7-4500-fa4b-7896b26c163a"
      },
      "source": [
        "df['Length'].describe()"
      ],
      "execution_count": 17,
      "outputs": [
        {
          "output_type": "execute_result",
          "data": {
            "text/plain": [
              "count    1300.000000\n",
              "mean       95.585385\n",
              "std       132.694204\n",
              "min         2.000000\n",
              "25%        27.750000\n",
              "50%        44.000000\n",
              "75%        93.000000\n",
              "max      1200.000000\n",
              "Name: Length, dtype: float64"
            ]
          },
          "metadata": {
            "tags": []
          },
          "execution_count": 17
        }
      ]
    },
    {
      "cell_type": "code",
      "metadata": {
        "colab": {
          "base_uri": "https://localhost:8080/",
          "height": 177
        },
        "id": "GYh5bQfIjgdv",
        "outputId": "7bd5ba79-d890-47e0-f895-8c87f73665a9"
      },
      "source": [
        "df[df['Length']==1200]['Comment'].iloc[0]\n"
      ],
      "execution_count": 20,
      "outputs": [
        {
          "output_type": "execute_result",
          "data": {
            "application/vnd.google.colaboratory.intrinsic+json": {
              "type": "string"
            },
            "text/plain": [
              "'&lt;script&gt;document.write(\\'&lt;a target=\"_self\" href=\" http://rover.ebay.com/rover/1/710-53481-19255-0/1?icep_ff3=1&amp;pub=5575096797&amp;toolid=10001&amp;campid=5337555197&amp;customid=bogdan+grigore&amp;ipn=psmain&amp;icep_vectorid=229508&amp;kwid=902099&amp;mtid=824&amp;kw=lg\"&gt;check  this out new arive on ebay&lt;/a&gt;&lt;img  style=\"text-decoration:none;border:0;padding:0;margin:0;\" src=\" http://rover.ebay.com/roverimp/1/710-53481-19255-0/1?ff3=1&amp;pub=5575096797&amp;toolid=10001&amp;campid=5337555197&amp;customid=bogdan+grigore&amp;mpt=\\'+Math.floor(Math.random()*999999999)+\\'\"&gt;\\');&lt;/script&gt;&lt;noscript&gt;&lt;a  target=\"_self\" href=\" http://rover.ebay.com/rover/1/710-53481-19255-0/1?icep_ff3=1&amp;pub=5575096797&amp;toolid=10001&amp;campid=5337555197&amp;customid=bogdan+grigore&amp;ipn=psmain&amp;icep_vectorid=229508&amp;kwid=902099&amp;mtid=824&amp;kw=lg\"&gt;check  this out new arive on ebay&lt;/a&gt;&lt;img  style=\"text-decoration:none;border:0;padding:0;margin:0;\" src=\" http://rover.ebay.com/roverimp/1/710-53481-19255-0/1?ff3=1&amp;pub=5575096797&amp;toolid=10001&amp;campid=5337555197&amp;customid=bogdan+grigore&amp;mpt=[CACHEBUSTER] \"&gt;&lt;/noscript&gt;\\ufeff'"
            ]
          },
          "metadata": {
            "tags": []
          },
          "execution_count": 20
        }
      ]
    },
    {
      "cell_type": "markdown",
      "metadata": {
        "id": "c7jmWmpyjowv"
      },
      "source": [
        "## text processing"
      ]
    },
    {
      "cell_type": "code",
      "metadata": {
        "colab": {
          "base_uri": "https://localhost:8080/"
        },
        "id": "zd3X_mI7jqQQ",
        "outputId": "3c7d647e-a482-4e88-d83d-ddc623f41575"
      },
      "source": [
        "dObject = df['Class'].values\n",
        "dObject"
      ],
      "execution_count": 21,
      "outputs": [
        {
          "output_type": "execute_result",
          "data": {
            "text/plain": [
              "array([0, 1, 1, ..., 1, 0, 0])"
            ]
          },
          "metadata": {
            "tags": []
          },
          "execution_count": 21
        }
      ]
    },
    {
      "cell_type": "code",
      "metadata": {
        "colab": {
          "base_uri": "https://localhost:8080/",
          "height": 294
        },
        "id": "dCFF0zMpjyTV",
        "outputId": "fae53d0d-6390-4f64-be37-b6b417e4b758"
      },
      "source": [
        "df.head(8)"
      ],
      "execution_count": 22,
      "outputs": [
        {
          "output_type": "execute_result",
          "data": {
            "text/html": [
              "<div>\n",
              "<style scoped>\n",
              "    .dataframe tbody tr th:only-of-type {\n",
              "        vertical-align: middle;\n",
              "    }\n",
              "\n",
              "    .dataframe tbody tr th {\n",
              "        vertical-align: top;\n",
              "    }\n",
              "\n",
              "    .dataframe thead th {\n",
              "        text-align: right;\n",
              "    }\n",
              "</style>\n",
              "<table border=\"1\" class=\"dataframe\">\n",
              "  <thead>\n",
              "    <tr style=\"text-align: right;\">\n",
              "      <th></th>\n",
              "      <th>No</th>\n",
              "      <th>Comment</th>\n",
              "      <th>Class</th>\n",
              "      <th>Length</th>\n",
              "    </tr>\n",
              "  </thead>\n",
              "  <tbody>\n",
              "    <tr>\n",
              "      <th>0</th>\n",
              "      <td>1</td>\n",
              "      <td>this song is racist</td>\n",
              "      <td>0</td>\n",
              "      <td>19</td>\n",
              "    </tr>\n",
              "    <tr>\n",
              "      <th>1</th>\n",
              "      <td>2</td>\n",
              "      <td>and how many subscribers compared to her over ...</td>\n",
              "      <td>1</td>\n",
              "      <td>55</td>\n",
              "    </tr>\n",
              "    <tr>\n",
              "      <th>2</th>\n",
              "      <td>3</td>\n",
              "      <td>HI! CHECK OUT OUR AWESOME COVERS! AND SAY WHAT...</td>\n",
              "      <td>1</td>\n",
              "      <td>57</td>\n",
              "    </tr>\n",
              "    <tr>\n",
              "      <th>3</th>\n",
              "      <td>4</td>\n",
              "      <td>well done shakira</td>\n",
              "      <td>0</td>\n",
              "      <td>17</td>\n",
              "    </tr>\n",
              "    <tr>\n",
              "      <th>4</th>\n",
              "      <td>5</td>\n",
              "      <td>:D subscribe to me for daily vines</td>\n",
              "      <td>1</td>\n",
              "      <td>34</td>\n",
              "    </tr>\n",
              "    <tr>\n",
              "      <th>5</th>\n",
              "      <td>6</td>\n",
              "      <td>Part 2. Holy Mary, pray for us Holy Mother of ...</td>\n",
              "      <td>1</td>\n",
              "      <td>462</td>\n",
              "    </tr>\n",
              "    <tr>\n",
              "      <th>6</th>\n",
              "      <td>7</td>\n",
              "      <td>I really can&amp;#39;t comprehend Miley Cyrus , s...</td>\n",
              "      <td>1</td>\n",
              "      <td>244</td>\n",
              "    </tr>\n",
              "    <tr>\n",
              "      <th>7</th>\n",
              "      <td>8</td>\n",
              "      <td>Nice song ^_^</td>\n",
              "      <td>0</td>\n",
              "      <td>13</td>\n",
              "    </tr>\n",
              "  </tbody>\n",
              "</table>\n",
              "</div>"
            ],
            "text/plain": [
              "   No                                            Comment  Class  Length\n",
              "0   1                                this song is racist      0      19\n",
              "1   2  and how many subscribers compared to her over ...      1      55\n",
              "2   3  HI! CHECK OUT OUR AWESOME COVERS! AND SAY WHAT...      1      57\n",
              "3   4                                  well done shakira      0      17\n",
              "4   5                 :D subscribe to me for daily vines      1      34\n",
              "5   6  Part 2. Holy Mary, pray for us Holy Mother of ...      1     462\n",
              "6   7   I really can&#39;t comprehend Miley Cyrus , s...      1     244\n",
              "7   8                                      Nice song ^_^      0      13"
            ]
          },
          "metadata": {
            "tags": []
          },
          "execution_count": 22
        }
      ]
    },
    {
      "cell_type": "code",
      "metadata": {
        "id": "HmLcEstKj5bi"
      },
      "source": [
        "#clean message from punctuations\n",
        "def cleanMessage(message):\n",
        "    nonPunc = [char for char in message if char not in string.punctuation]\n",
        "    nonPunc = \"\".join(nonPunc)\n",
        "    return nonPunc"
      ],
      "execution_count": 23,
      "outputs": []
    },
    {
      "cell_type": "code",
      "metadata": {
        "id": "WuBZUvTIj9HE"
      },
      "source": [
        "#tokenization (process of converting the normal text strings in to a list of tokens(also known as lemmas)).)\n",
        "df['Comment'] = df['Comment'].apply(cleanMessage)\n",
        "\n"
      ],
      "execution_count": 24,
      "outputs": []
    },
    {
      "cell_type": "code",
      "metadata": {
        "id": "pGBdBodUkJe0"
      },
      "source": [
        "#vector the SciKit Learn's algorithm models can work with and machine learning model\n",
        "CV = CountVectorizer(stop_words=\"english\")"
      ],
      "execution_count": 25,
      "outputs": []
    },
    {
      "cell_type": "code",
      "metadata": {
        "id": "TNbcT1OYkjRx"
      },
      "source": [
        "xSet = df['Comment'].values\n",
        "ySet = df['Class'].values"
      ],
      "execution_count": 26,
      "outputs": []
    },
    {
      "cell_type": "markdown",
      "metadata": {
        "id": "3yqKQAJwks4D"
      },
      "source": [
        "## Splitting Train and Test Data"
      ]
    },
    {
      "cell_type": "code",
      "metadata": {
        "id": "j5KBcpF-kqNw"
      },
      "source": [
        "xSet_train,xSet_test,ySet_train,ySet_test = train_test_split(xSet,ySet,test_size=0.2)"
      ],
      "execution_count": 27,
      "outputs": []
    },
    {
      "cell_type": "code",
      "metadata": {
        "id": "YBcIw0COkvz8"
      },
      "source": [
        "xSet_train_CV = CV.fit_transform(xSet_train)"
      ],
      "execution_count": 28,
      "outputs": []
    },
    {
      "cell_type": "markdown",
      "metadata": {
        "id": "L5JC0W9nkwx8"
      },
      "source": [
        "## Training a model¶\n",
        "### with naive bayes"
      ]
    },
    {
      "cell_type": "code",
      "metadata": {
        "colab": {
          "base_uri": "https://localhost:8080/"
        },
        "id": "aW5IGRd3k1c1",
        "outputId": "1b55fda0-4377-4a34-efdc-dbd54f588388"
      },
      "source": [
        "NB = MultinomialNB()\n",
        "NB.fit(xSet_train_CV,ySet_train)"
      ],
      "execution_count": 29,
      "outputs": [
        {
          "output_type": "execute_result",
          "data": {
            "text/plain": [
              "MultinomialNB(alpha=1.0, class_prior=None, fit_prior=True)"
            ]
          },
          "metadata": {
            "tags": []
          },
          "execution_count": 29
        }
      ]
    },
    {
      "cell_type": "code",
      "metadata": {
        "id": "tsIwzElgk57n"
      },
      "source": [
        "xSet_test_CV = CV.transform(xSet_test)"
      ],
      "execution_count": 30,
      "outputs": []
    },
    {
      "cell_type": "code",
      "metadata": {
        "id": "HQZXlowvk9-p"
      },
      "source": [
        "ySet_predict = NB.predict(xSet_test_CV)"
      ],
      "execution_count": 31,
      "outputs": []
    },
    {
      "cell_type": "code",
      "metadata": {
        "id": "v4hB0XLElAve"
      },
      "source": [
        "accuracyScore = accuracy_score(ySet_test,ySet_predict)*100"
      ],
      "execution_count": 32,
      "outputs": []
    },
    {
      "cell_type": "code",
      "metadata": {
        "colab": {
          "base_uri": "https://localhost:8080/"
        },
        "id": "ZijbU2gclDSq",
        "outputId": "291b00c6-04bf-4486-9719-c68fa1045829"
      },
      "source": [
        "print(\"Prediction Accuracy :\",accuracyScore)"
      ],
      "execution_count": 33,
      "outputs": [
        {
          "output_type": "stream",
          "text": [
            "Prediction Accuracy : 87.3076923076923\n"
          ],
          "name": "stdout"
        }
      ]
    },
    {
      "cell_type": "code",
      "metadata": {
        "colab": {
          "base_uri": "https://localhost:8080/"
        },
        "id": "iwkuspjTlF_X",
        "outputId": "e5f95a21-86c7-43ca-cb8c-4715c19bb22d"
      },
      "source": [
        "msg = input(\"Enter Message: \")\n",
        "msgInput = CV.transform([msg])\n",
        "predict = NB.predict(msgInput)\n",
        "if(predict[0]==0):\n",
        "    print(\"------------------------not spam---------------------------\")\n",
        "else:\n",
        "    print(\"---------------------------this is spam------------------------------\")"
      ],
      "execution_count": 36,
      "outputs": [
        {
          "output_type": "stream",
          "text": [
            "Enter Message: Thanks for your subscription to Ringtone UK your mobile will be charged $5/month Please confirm by replying YES or NO. If you reply NO you will not be charged\n",
            "---------------------------this is spam------------------------------\n"
          ],
          "name": "stdout"
        }
      ]
    }
  ]
}